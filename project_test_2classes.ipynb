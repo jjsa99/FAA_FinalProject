{
 "cells": [
  {
   "cell_type": "code",
   "execution_count": 1,
   "metadata": {},
   "outputs": [],
   "source": [
    "import numpy as np # linear algebra\n",
    "import pandas as pd # data processing, CSV file I/O (e.g. pd.read_csv)\n",
    "# Import Libraries\n",
    "import numpy as np\n",
    "import pandas as pd\n",
    "import matplotlib.pyplot as plt\n",
    "import matplotlib.image as img\n",
    "import seaborn as sns\n",
    "import os\n",
    "# sklearn library \n",
    "from sklearn.model_selection import train_test_split\n",
    "from sklearn.metrics import classification_report\n",
    "from sklearn.datasets import make_classification\n",
    "from sklearn.feature_selection import SelectKBest\n",
    "from sklearn.feature_selection import f_classif\n",
    "from sklearn import preprocessing\n",
    "from io import BytesIO\n",
    "from zipfile import ZipFile\n",
    "#opencv\n",
    "import cv2 as cv\n",
    "#keras/Tensor\n",
    "import  tensorflow as tf\n",
    "from keras import layers\n",
    "from keras.layers import Input, Dense, Activation, ZeroPadding2D, BatchNormalization, Flatten, Conv2D\n",
    "from keras.layers import AveragePooling2D, MaxPooling2D, Dropout, GlobalMaxPooling2D, GlobalAveragePooling2D\n",
    "from keras.models import Model\n",
    "from keras.preprocessing import image\n",
    "from keras.utils import layer_utils\n",
    "from keras.utils.data_utils import get_file\n",
    "from keras.applications.imagenet_utils import preprocess_input\n",
    "from keras.models import Sequential\n",
    "from keras.layers import Dense, Conv2D , MaxPool2D , Flatten , Dropout , BatchNormalization\n",
    "import pydot\n",
    "#from kt_utils import *\n",
    "from IPython.display import SVG\n",
    "from keras.utils.vis_utils import model_to_dot\n",
    "from keras.utils.vis_utils import plot_model\n",
    "from keras.preprocessing.image import ImageDataGenerator\n",
    "\n",
    "import os\n",
    "\n"
   ]
  },
  {
   "cell_type": "code",
   "execution_count": null,
   "metadata": {},
   "outputs": [],
   "source": [
    "\n",
    "def get_ImageData(dir_path = \"data/data/\", image_size = (150, 150), batch_size = 32, validation_split = 0.2, color_mode = 'grayscale', label_mode = 'categorical'):\n",
    "\n",
    "  if validation_split == None:\n",
    "    subset = [None, None]\n",
    "  else:\n",
    "    subset = [\"training\", \"validation\"]\n",
    "  \n",
    "  train_ds = tf.keras.preprocessing.image_dataset_from_directory(directory = dir_path + \"train\",  \n",
    "                                                                labels=\"inferred\",\n",
    "                                                                label_mode=label_mode,\n",
    "                                                                class_names= [\"normal\", \"covid\", \"pneumonia\"],\n",
    "                                                                color_mode=color_mode,\n",
    "                                                                batch_size=batch_size,\n",
    "                                                                image_size=image_size,\n",
    "                                                                shuffle=True,\n",
    "                                                                seed=42,\n",
    "                                                                validation_split=validation_split,\n",
    "                                                                subset=subset[0],\n",
    "                                                                interpolation=\"bilinear\",\n",
    "                                                                follow_links=False,\n",
    "                                                                crop_to_aspect_ratio=False,\n",
    "                                                                )\n",
    "  \n",
    "  val_ds = tf.keras.preprocessing.image_dataset_from_directory(directory=dir_path + \"train\",                                                      \n",
    "                                                              labels=\"inferred\",\n",
    "                                                              label_mode=label_mode,\n",
    "                                                              class_names=[\"normal\", \"covid\", \"pneumonia\"],\n",
    "                                                              color_mode=color_mode,\n",
    "                                                              batch_size=batch_size,\n",
    "                                                              image_size=image_size,\n",
    "                                                              shuffle=True,\n",
    "                                                              seed=42,\n",
    "                                                              validation_split=validation_split,\n",
    "                                                              subset=subset[1],\n",
    "                                                              interpolation=\"bilinear\",\n",
    "                                                              follow_links=False,\n",
    "                                                              crop_to_aspect_ratio=False,\n",
    "                                                              )\n",
    "\n",
    "  test_ds = tf.keras.preprocessing.image_dataset_from_directory(directory = dir_path + \"validation\",                                                      \n",
    "                                                                labels=\"inferred\",\n",
    "                                                                label_mode=label_mode,\n",
    "                                                                class_names=[\"normal\", \"covid\", \"pneumonia\"],\n",
    "                                                                color_mode=color_mode,\n",
    "                                                                batch_size=batch_size,\n",
    "                                                                image_size=image_size,\n",
    "                                                                shuffle=False,\n",
    "                                                                seed=42,\n",
    "                                                                validation_split=None,\n",
    "                                                                subset=None,\n",
    "                                                                interpolation=\"bilinear\",\n",
    "                                                                follow_links=False,\n",
    "                                                                crop_to_aspect_ratio=False,\n",
    "                                                                )\n",
    "\n",
    "  \n",
    "  return train_ds, val_ds, test_ds\n",
    "  "
   ]
  },
  {
   "cell_type": "code",
   "execution_count": 2,
   "metadata": {},
   "outputs": [],
   "source": [
    "import glob\n",
    "import random\n",
    "import shutil\n",
    "import math\n",
    "total = 0\n",
    "for name in glob.glob(\"/home/alegria/FAA/FAA_FinalProject/FAA_FinalProject/COVID19_Pneumonia_Normal_Chest_Xray_PA_Dataset/*/*\"):\n",
    "    total =  total +1    \n"
   ]
  },
  {
   "cell_type": "code",
   "execution_count": 3,
   "metadata": {},
   "outputs": [
    {
     "name": "stdout",
     "output_type": "stream",
     "text": [
      "s\n"
     ]
    }
   ],
   "source": [
    "# source directory\n",
    "os.chdir(\"/home/alegria/FAA/FAA_FinalProject/FAA_FinalProject/COVID19_Pneumonia_Normal_Chest_Xray_PA_Dataset\")\n",
    "#/home/alegria/FAA/FAA_FinalProject/FAA_FinalProject/COVID19_Pneumonia_Normal_Chest_Xray_PA_Dataset/covid\n",
    "\n",
    "train_div = math.floor(int((total*0.6)/3))\n",
    "test_div = math.floor(int((total*0.2)/3))\n",
    "val_div = math.floor(int((total*0.2)/3))\n",
    "\n",
    "if os.path.isdir(\"train/covid\") is True:\n",
    "    print(\"s\")\n",
    "else:\n",
    "    os.makedirs(\"train/covid\")\n",
    "    os.makedirs(\"train/pneumonia\")\n",
    "    os.makedirs(\"train/normal\")\n",
    "    os.makedirs(\"test/covid\")\n",
    "    os.makedirs(\"test/pneumonia\")\n",
    "    os.makedirs(\"test/normal\")\n",
    "    os.makedirs(\"validation/covid\")\n",
    "    os.makedirs(\"validation/pneumonia\")\n",
    "    os.makedirs(\"validation/normal\")\n",
    "\n",
    "    for c in random.sample(glob.glob(\"covid/*\"),train_div):\n",
    "        shutil.move(c,\"train/covid\")\n",
    "    for c in random.sample(glob.glob(\"pneumonia/*\"),train_div):\n",
    "        shutil.move(c,\"train/pneumonia\")\n",
    "    for c in random.sample(glob.glob(\"normal/*\"),train_div):\n",
    "        shutil.move(c,\"train/normal\")\n",
    "\n",
    "    for c in random.sample(glob.glob(\"covid/*\"),test_div):\n",
    "        shutil.move(c,\"test/covid\")\n",
    "    for c in random.sample(glob.glob(\"pneumonia/*\"),test_div):\n",
    "        shutil.move(c,\"test/pneumonia\")\n",
    "    for c in random.sample(glob.glob(\"normal/*\"),test_div):\n",
    "        shutil.move(c,\"test/normal\")\n",
    "    for c in random.sample(glob.glob(\"covid/*\"),val_div):\n",
    "        shutil.move(c,\"validation/covid\")\n",
    "    for c in random.sample(glob.glob(\"pneumonia/*\"),val_div):\n",
    "        shutil.move(c,\"validation/pneumonia\")\n",
    "    for c in random.sample(glob.glob(\"normal/*\"),val_div):\n",
    "        shutil.move(c,\"validation/normal\")\n"
   ]
  },
  {
   "cell_type": "code",
   "execution_count": 4,
   "metadata": {},
   "outputs": [
    {
     "name": "stdout",
     "output_type": "stream",
     "text": [
      "Found 2745 images belonging to 3 classes.\n",
      "Found 915 images belonging to 3 classes.\n",
      "Found 915 images belonging to 3 classes.\n"
     ]
    }
   ],
   "source": [
    "dir_path = \"/home/alegria/FAA/FAA_FinalProject/FAA_FinalProject/COVID19_Pneumonia_Normal_Chest_Xray_PA_Dataset/\"\n",
    "train_batches = ImageDataGenerator().flow_from_directory(directory=dir_path + \"train\", target_size=(150,150), classes=['normal', 'covid', 'pneumonia'], batch_size=32, color_mode = \"rgb\")\n",
    "test_batches = ImageDataGenerator().flow_from_directory(directory=dir_path + \"test\", target_size=(150,150), classes=['normal', 'covid', 'pneumonia'], batch_size=32, color_mode = \"rgb\")\n",
    "val_batches = ImageDataGenerator().flow_from_directory(directory=dir_path + \"validation\", target_size=(150,150), classes=['normal', 'covid', 'pneumonia'], batch_size=32, color_mode = \"rgb\", shuffle=False)"
   ]
  },
  {
   "cell_type": "code",
   "execution_count": null,
   "metadata": {},
   "outputs": [],
   "source": [
    "image_size = (150, 150)\n",
    "batch_size = 32\n",
    "validation_split = 0.1\n",
    "color_mode = \"rgb\"\n",
    "label_mode = 'int'\n",
    "train_ds, val_ds, test_ds = get_ImageData(dir_path = dir_path, image_size = image_size, batch_size = batch_size, validation_split = validation_split, color_mode = color_mode, label_mode = label_mode)"
   ]
  },
  {
   "cell_type": "code",
   "execution_count": null,
   "metadata": {},
   "outputs": [],
   "source": [
    "class_names = train_ds.class_names\n",
    "print(class_names)\n",
    "\n",
    "plt.figure(figsize=(5, 5))\n",
    "for images, labels in train_ds.take(1):\n",
    "  for i in range(4):\n",
    "    ax = plt.subplot(2, 2, i + 1)\n",
    "    plt.imshow(images[i].numpy().astype(\"uint8\"))\n",
    "    plt.title(class_names[labels[i]])\n",
    "    plt.axis(\"off\")"
   ]
  },
  {
   "cell_type": "code",
   "execution_count": 1,
   "metadata": {},
   "outputs": [
    {
     "name": "stdout",
     "output_type": "stream",
     "text": [
      "Model: \"sequential\"\n",
      "_________________________________________________________________\n",
      " Layer (type)                Output Shape              Param #   \n",
      "=================================================================\n",
      " conv2d (Conv2D)             (None, 150, 150, 32)      896       \n",
      "                                                                 \n",
      " batch_normalization (BatchN  (None, 150, 150, 32)     128       \n",
      " ormalization)                                                   \n",
      "                                                                 \n",
      " max_pooling2d (MaxPooling2D  (None, 75, 75, 32)       0         \n",
      " )                                                               \n",
      "                                                                 \n",
      " dropout (Dropout)           (None, 75, 75, 32)        0         \n",
      "                                                                 \n",
      " batch_normalization_1 (Batc  (None, 75, 75, 32)       128       \n",
      " hNormalization)                                                 \n",
      "                                                                 \n",
      " max_pooling2d_1 (MaxPooling  (None, 38, 38, 32)       0         \n",
      " 2D)                                                             \n",
      "                                                                 \n",
      " conv2d_1 (Conv2D)           (None, 38, 38, 64)        18496     \n",
      "                                                                 \n",
      " batch_normalization_2 (Batc  (None, 38, 38, 64)       256       \n",
      " hNormalization)                                                 \n",
      "                                                                 \n",
      " max_pooling2d_2 (MaxPooling  (None, 19, 19, 64)       0         \n",
      " 2D)                                                             \n",
      "                                                                 \n",
      " dropout_1 (Dropout)         (None, 19, 19, 64)        0         \n",
      "                                                                 \n",
      " batch_normalization_3 (Batc  (None, 19, 19, 64)       256       \n",
      " hNormalization)                                                 \n",
      "                                                                 \n",
      " max_pooling2d_3 (MaxPooling  (None, 10, 10, 64)       0         \n",
      " 2D)                                                             \n",
      "                                                                 \n",
      " conv2d_2 (Conv2D)           (None, 10, 10, 256)       147712    \n",
      "                                                                 \n",
      " dropout_2 (Dropout)         (None, 10, 10, 256)       0         \n",
      "                                                                 \n",
      " batch_normalization_4 (Batc  (None, 10, 10, 256)      1024      \n",
      " hNormalization)                                                 \n",
      "                                                                 \n",
      " max_pooling2d_4 (MaxPooling  (None, 5, 5, 256)        0         \n",
      " 2D)                                                             \n",
      "                                                                 \n",
      " flatten (Flatten)           (None, 6400)              0         \n",
      "                                                                 \n",
      " dense (Dense)               (None, 128)               819328    \n",
      "                                                                 \n",
      " dropout_3 (Dropout)         (None, 128)               0         \n",
      "                                                                 \n",
      " dense_1 (Dense)             (None, 3)                 387       \n",
      "                                                                 \n",
      "=================================================================\n",
      "Total params: 988,611\n",
      "Trainable params: 987,715\n",
      "Non-trainable params: 896\n",
      "_________________________________________________________________\n"
     ]
    },
    {
     "name": "stderr",
     "output_type": "stream",
     "text": [
      "2022-02-27 02:00:01.190711: I tensorflow/stream_executor/cuda/cuda_gpu_executor.cc:936] successful NUMA node read from SysFS had negative value (-1), but there must be at least one NUMA node, so returning NUMA node zero\n",
      "2022-02-27 02:00:01.257382: I tensorflow/stream_executor/cuda/cuda_gpu_executor.cc:936] successful NUMA node read from SysFS had negative value (-1), but there must be at least one NUMA node, so returning NUMA node zero\n",
      "2022-02-27 02:00:01.257631: I tensorflow/stream_executor/cuda/cuda_gpu_executor.cc:936] successful NUMA node read from SysFS had negative value (-1), but there must be at least one NUMA node, so returning NUMA node zero\n",
      "2022-02-27 02:00:01.265833: I tensorflow/core/platform/cpu_feature_guard.cc:151] This TensorFlow binary is optimized with oneAPI Deep Neural Network Library (oneDNN) to use the following CPU instructions in performance-critical operations:  AVX2 FMA\n",
      "To enable them in other operations, rebuild TensorFlow with the appropriate compiler flags.\n",
      "2022-02-27 02:00:01.266510: I tensorflow/stream_executor/cuda/cuda_gpu_executor.cc:936] successful NUMA node read from SysFS had negative value (-1), but there must be at least one NUMA node, so returning NUMA node zero\n",
      "2022-02-27 02:00:01.266694: I tensorflow/stream_executor/cuda/cuda_gpu_executor.cc:936] successful NUMA node read from SysFS had negative value (-1), but there must be at least one NUMA node, so returning NUMA node zero\n",
      "2022-02-27 02:00:01.266816: I tensorflow/stream_executor/cuda/cuda_gpu_executor.cc:936] successful NUMA node read from SysFS had negative value (-1), but there must be at least one NUMA node, so returning NUMA node zero\n",
      "2022-02-27 02:00:02.360993: I tensorflow/stream_executor/cuda/cuda_gpu_executor.cc:936] successful NUMA node read from SysFS had negative value (-1), but there must be at least one NUMA node, so returning NUMA node zero\n",
      "2022-02-27 02:00:02.361423: I tensorflow/stream_executor/cuda/cuda_gpu_executor.cc:936] successful NUMA node read from SysFS had negative value (-1), but there must be at least one NUMA node, so returning NUMA node zero\n",
      "2022-02-27 02:00:02.361672: I tensorflow/stream_executor/cuda/cuda_gpu_executor.cc:936] successful NUMA node read from SysFS had negative value (-1), but there must be at least one NUMA node, so returning NUMA node zero\n",
      "2022-02-27 02:00:02.362530: I tensorflow/core/common_runtime/gpu/gpu_device.cc:1525] Created device /job:localhost/replica:0/task:0/device:GPU:0 with 124 MB memory:  -> device: 0, name: NVIDIA GeForce GTX 1050 Ti, pci bus id: 0000:01:00.0, compute capability: 6.1\n",
      "2022-02-27 02:00:02.368526: I tensorflow/stream_executor/cuda/cuda_driver.cc:739] failed to allocate 124.94M (131006464 bytes) from device: CUDA_ERROR_OUT_OF_MEMORY: out of memory\n",
      "2022-02-27 02:00:02.368847: I tensorflow/stream_executor/cuda/cuda_driver.cc:739] failed to allocate 112.44M (117905920 bytes) from device: CUDA_ERROR_OUT_OF_MEMORY: out of memory\n",
      "2022-02-27 02:00:02.369231: I tensorflow/stream_executor/cuda/cuda_driver.cc:739] failed to allocate 101.20M (106115328 bytes) from device: CUDA_ERROR_OUT_OF_MEMORY: out of memory\n",
      "2022-02-27 02:00:02.369550: I tensorflow/stream_executor/cuda/cuda_driver.cc:739] failed to allocate 91.08M (95503872 bytes) from device: CUDA_ERROR_OUT_OF_MEMORY: out of memory\n"
     ]
    }
   ],
   "source": [
    "from keras.models import Sequential\n",
    "from keras.layers import Dense, Conv2D, MaxPool2D, Dropout, Flatten, BatchNormalization\n",
    "\n",
    "\n",
    "model = Sequential([\n",
    "Conv2D(filters = 32 , kernel_size =(3,3) , strides = 1 , padding = 'same' , activation = 'relu' , input_shape = (150,150,3)),\n",
    "BatchNormalization(),\n",
    "MaxPool2D(pool_size=(2,2),strides = 2),\n",
    "Dropout(0.1),\n",
    "BatchNormalization(),\n",
    "MaxPool2D((2,2) , strides = 2 , padding = 'same'),\n",
    "Conv2D(64 , (3,3) , strides = 1 , padding = 'same' , activation = 'relu'),\n",
    "BatchNormalization(),\n",
    "MaxPool2D((2,2) , strides = 2 , padding = 'same'),\n",
    "Dropout(0.2),\n",
    "BatchNormalization(),\n",
    "MaxPool2D((2,2) , strides = 2 , padding = 'same'),\n",
    "Conv2D(256 , (3,3) , strides = 1 , padding = 'same' , activation = 'relu'),\n",
    "Dropout(0.2),\n",
    "BatchNormalization(),\n",
    "MaxPool2D((2,2) , strides = 2 , padding = 'same'),\n",
    "Flatten(),S\n",
    "Dense(units = 128 , activation = 'relu'),\n",
    "Dropout(0.2),\n",
    "Dense(units = 3 , activation = 'softmax')])\n",
    "model.summary()\n",
    "\n"
   ]
  },
  {
   "cell_type": "code",
   "execution_count": 6,
   "metadata": {},
   "outputs": [],
   "source": [
    "from keras.callbacks import ReduceLROnPlateau\n",
    "learning_rate_reduction = ReduceLROnPlateau(monitor='val_accuracy', patience = 2, verbose=1,factor=0.3, min_lr=0.000001)\n",
    "\n",
    "model.compile(optimizer = 'Adam', loss = 'categorical_crossentropy' , metrics = ['accuracy'])"
   ]
  },
  {
   "cell_type": "code",
   "execution_count": 7,
   "metadata": {},
   "outputs": [
    {
     "name": "stdout",
     "output_type": "stream",
     "text": [
      "Epoch 1/10\n"
     ]
    },
    {
     "name": "stderr",
     "output_type": "stream",
     "text": [
      "2022-02-26 12:45:22.010552: I tensorflow/stream_executor/cuda/cuda_dnn.cc:368] Loaded cuDNN version 8301\n",
      "2022-02-26 12:45:22.585594: I tensorflow/core/platform/default/subprocess.cc:304] Start cannot spawn child process: No such file or directory\n"
     ]
    },
    {
     "name": "stdout",
     "output_type": "stream",
     "text": [
      "86/86 [==============================] - 105s 1s/step - loss: 0.7796 - accuracy: 0.8029 - val_loss: 0.5820 - val_accuracy: 0.7923 - lr: 0.0010\n",
      "Epoch 2/10\n",
      "86/86 [==============================] - 103s 1s/step - loss: 0.3024 - accuracy: 0.8958 - val_loss: 0.3195 - val_accuracy: 0.9093 - lr: 0.0010\n",
      "Epoch 3/10\n",
      "86/86 [==============================] - 104s 1s/step - loss: 0.2541 - accuracy: 0.9202 - val_loss: 0.2645 - val_accuracy: 0.9202 - lr: 0.0010\n",
      "Epoch 4/10\n",
      "86/86 [==============================] - 104s 1s/step - loss: 0.2454 - accuracy: 0.9224 - val_loss: 0.3589 - val_accuracy: 0.8929 - lr: 0.0010\n",
      "Epoch 5/10\n",
      "86/86 [==============================] - ETA: 0s - loss: 0.2124 - accuracy: 0.9330\n",
      "Epoch 5: ReduceLROnPlateau reducing learning rate to 0.0003000000142492354.\n",
      "86/86 [==============================] - 105s 1s/step - loss: 0.2124 - accuracy: 0.9330 - val_loss: 1.0301 - val_accuracy: 0.6536 - lr: 0.0010\n",
      "Epoch 6/10\n",
      "86/86 [==============================] - 102s 1s/step - loss: 0.1592 - accuracy: 0.9432 - val_loss: 0.2396 - val_accuracy: 0.9366 - lr: 3.0000e-04\n",
      "Epoch 7/10\n",
      "86/86 [==============================] - 103s 1s/step - loss: 0.1441 - accuracy: 0.9490 - val_loss: 0.2273 - val_accuracy: 0.9399 - lr: 3.0000e-04\n",
      "Epoch 8/10\n",
      "86/86 [==============================] - 102s 1s/step - loss: 0.1275 - accuracy: 0.9537 - val_loss: 0.2254 - val_accuracy: 0.9333 - lr: 3.0000e-04\n",
      "Epoch 9/10\n",
      "86/86 [==============================] - ETA: 0s - loss: 0.1149 - accuracy: 0.9581\n",
      "Epoch 9: ReduceLROnPlateau reducing learning rate to 9.000000427477062e-05.\n",
      "86/86 [==============================] - 102s 1s/step - loss: 0.1149 - accuracy: 0.9581 - val_loss: 0.2279 - val_accuracy: 0.9344 - lr: 3.0000e-04\n",
      "Epoch 10/10\n",
      "86/86 [==============================] - 101s 1s/step - loss: 0.1022 - accuracy: 0.9599 - val_loss: 0.2300 - val_accuracy: 0.9366 - lr: 9.0000e-05\n"
     ]
    }
   ],
   "source": [
    "\n",
    "history = model.fit(x =train_batches,epochs = 10 , validation_data = val_batches ,callbacks = [learning_rate_reduction])\n"
   ]
  },
  {
   "cell_type": "code",
   "execution_count": 8,
   "metadata": {},
   "outputs": [
    {
     "data": {
      "image/png": "[encoded data removed]",
      "text/plain": [
       "<Figure size 1440x720 with 2 Axes>"
      ]
     },
     "metadata": {
      "needs_background": "light"
     },
     "output_type": "display_data"
    }
   ],
   "source": [
    "epochs = [i for i in range(10)]\n",
    "fig , ax = plt.subplots(1,2)\n",
    "train_acc = history.history['accuracy']\n",
    "train_loss = history.history['loss']\n",
    "val_acc = history.history['val_accuracy']\n",
    "val_loss = history.history['val_loss']\n",
    "fig.set_size_inches(20,10)\n",
    "\n",
    "ax[0].plot(epochs , train_acc , 'go-' , label = 'Training Accuracy')\n",
    "ax[0].plot(epochs , val_acc , 'ro-' , label = 'Validation Accuracy')\n",
    "ax[0].set_title('Training & Validation Accuracy')\n",
    "ax[0].legend()\n",
    "ax[0].set_xlabel(\"Epochs\")\n",
    "ax[0].set_ylabel(\"Accuracy\")\n",
    "\n",
    "ax[1].plot(epochs , train_loss , 'g-o' , label = 'Training Loss')\n",
    "ax[1].plot(epochs , val_loss , 'r-o' , label = 'Validation Loss')\n",
    "ax[1].set_title('Testing Accuracy & Loss')\n",
    "ax[1].legend()\n",
    "ax[1].set_xlabel(\"Epochs\")\n",
    "ax[1].set_ylabel(\"Training & Validation Loss\")\n",
    "plt.show()"
   ]
  },
  {
   "cell_type": "code",
   "execution_count": 9,
   "metadata": {},
   "outputs": [],
   "source": [
    "predictions = model.predict(x = test_batches, verbose = 0)"
   ]
  },
  {
   "cell_type": "code",
   "execution_count": 10,
   "metadata": {},
   "outputs": [
    {
     "data": {
      "text/plain": [
       "array([[1., 0., 0.],\n",
       "       [0., 1., 0.],\n",
       "       [1., 0., 0.],\n",
       "       ...,\n",
       "       [0., 1., 0.],\n",
       "       [0., 0., 1.],\n",
       "       [1., 0., 0.]], dtype=float32)"
      ]
     },
     "execution_count": 10,
     "metadata": {},
     "output_type": "execute_result"
    }
   ],
   "source": [
    "np.round(predictions)"
   ]
  },
  {
   "cell_type": "code",
   "execution_count": 11,
   "metadata": {},
   "outputs": [],
   "source": [
    "from sklearn.metrics import confusion_matrix\n",
    "cm = confusion_matrix(y_true = test_batches.classes, y_pred = np.argmax(predictions,axis = -1))"
   ]
  },
  {
   "cell_type": "code",
   "execution_count": 12,
   "metadata": {},
   "outputs": [],
   "source": [
    "import itertools    \n",
    "def plot_confusion_matrix(cm, classes,\n",
    "                          normalize=False,\n",
    "                          title='Confusion matrix',\n",
    "                          cmap=plt.cm.Blues):\n",
    "    \"\"\"\n",
    "    This function prints and plots the confusion matrix.\n",
    "    Normalization can be applied by setting `normalize=True`.\n",
    "    \"\"\"\n",
    "    plt.imshow(cm, interpolation='nearest', cmap=cmap)\n",
    "    plt.title(title)\n",
    "    plt.colorbar()\n",
    "    tick_marks = np.arange(len(classes))\n",
    "    plt.xticks(tick_marks, classes, rotation=45)\n",
    "    plt.yticks(tick_marks, classes)\n",
    "\n",
    "    if normalize:\n",
    "        cm = cm.astype('float') / cm.sum(axis=1)[:, np.newaxis]\n",
    "        print(\"Normalized confusion matrix\")\n",
    "    else:\n",
    "        print('Confusion matrix, without normalization')\n",
    "\n",
    "    print(cm)\n",
    "\n",
    "    thresh = cm.max() / 2.\n",
    "    for i, j in itertools.product(range(cm.shape[0]), range(cm.shape[1])):\n",
    "        plt.text(j, i, cm[i, j],\n",
    "            horizontalalignment=\"center\",\n",
    "            color=\"white\" if cm[i, j] > thresh else \"black\")\n",
    "\n",
    "    plt.tight_layout()\n",
    "    plt.ylabel('True label')\n",
    "    plt.xlabel('Predicted label')"
   ]
  },
  {
   "cell_type": "code",
   "execution_count": 13,
   "metadata": {},
   "outputs": [
    {
     "data": {
      "text/plain": [
       "{'normal': 0, 'covid': 1, 'pneumonia': 2}"
      ]
     },
     "execution_count": 13,
     "metadata": {},
     "output_type": "execute_result"
    }
   ],
   "source": [
    "test_batches.class_indices"
   ]
  },
  {
   "cell_type": "code",
   "execution_count": 14,
   "metadata": {},
   "outputs": [
    {
     "name": "stdout",
     "output_type": "stream",
     "text": [
      "Confusion matrix, without normalization\n",
      "[[111  98  96]\n",
      " [113 111  81]\n",
      " [113  91 101]]\n"
     ]
    },
    {
     "data": {
      "image/png": "[encoded data removed]",
      "text/plain": [
       "<Figure size 432x288 with 2 Axes>"
      ]
     },
     "metadata": {
      "needs_background": "light"
     },
     "output_type": "display_data"
    }
   ],
   "source": [
    "cm_plot_labels = ['normal','covid','pneumonia']\n",
    "plot_confusion_matrix(cm = cm, classes= cm_plot_labels, title = 'Confusion Matrix')"
   ]
  },
  {
   "cell_type": "code",
   "execution_count": 15,
   "metadata": {},
   "outputs": [
    {
     "data": {
      "text/plain": [
       "<AxesSubplot:>"
      ]
     },
     "execution_count": 15,
     "metadata": {},
     "output_type": "execute_result"
    },
    {
     "data": {
      "image/png": "[encoded data removed]",
      "text/plain": [
       "<Figure size 432x432 with 2 Axes>"
      ]
     },
     "metadata": {
      "needs_background": "light"
     },
     "output_type": "display_data"
    }
   ],
   "source": [
    "fig, ax = plt.subplots(figsize=(6,6))\n",
    "sns.heatmap(cm, annot=True, fmt='d',\n",
    "            xticklabels=[\"normal\", \"covid\", \"pneumonia\"], yticklabels=[\"normal\", \"covid\", \"pneumonia\"])"
   ]
  },
  {
   "cell_type": "code",
   "execution_count": null,
   "metadata": {},
   "outputs": [],
   "source": [
    "from keras.preprocessing.image import ImageDataGenerator\n",
    "\n",
    "# With data augmentation to prevent overfitting and handling the imbalance in dataset\n",
    "\n",
    "datagen = ImageDataGenerator(\n",
    "        rescale = 1./255,\n",
    "        featurewise_center=False,  # set input mean to 0 over the dataset\n",
    "        samplewise_center=False,  # set each sample mean to 0\n",
    "        featurewise_std_normalization=False,  # divide inputs by std of the dataset\n",
    "        samplewise_std_normalization=False,  # divide each input by its std\n",
    "        zca_whitening=False,  # apply ZCA whitening\n",
    "        rotation_range = 30,  # randomly rotate images in the range (degrees, 0 to 180)\n",
    "        zoom_range = 0.2, # Randomly zoom image \n",
    "        width_shift_range=0.1,  # randomly shift images horizontally (fraction of total width)\n",
    "        height_shift_range=0.1,  # randomly shift images vertically (fraction of total height)\n",
    "        horizontal_flip = True,  # randomly flip images\n",
    "        vertical_flip=False)  # randomly flip images\n"
   ]
  },
  {
   "cell_type": "code",
   "execution_count": null,
   "metadata": {},
   "outputs": [],
   "source": [
    "train_generator = datagen.flow_from_directory(directory=dir_path + \"train\", target_size=(150,150),batch_size = 32)\n",
    "val_generator = datagen.flow_from_directory(directory=dir_path + \"validation\", target_size=(150,150),batch_size = 32)\n",
    "test_generator = datagen.flow_from_directory(directory=dir_path + \"test\", target_size=(150,150),batch_size = 32)"
   ]
  },
  {
   "cell_type": "code",
   "execution_count": null,
   "metadata": {},
   "outputs": [],
   "source": [
    "learning_rate_reduction_ = ReduceLROnPlateau(monitor='val_accuracy', patience = 2, verbose=1,factor=0.3, min_lr=0.000001)\n",
    "\n",
    "model.compile(optimizer = 'Adam', loss = 'categorical_crossentropy' , metrics = ['accuracy'])\n",
    "history = model.fit(x =train_generator,epochs = 10 , validation_data = val_generator ,callbacks = [learning_rate_reduction_])"
   ]
  },
  {
   "cell_type": "code",
   "execution_count": null,
   "metadata": {},
   "outputs": [],
   "source": [
    "epochs = [i for i in range(10)]\n",
    "fig , ax = plt.subplots(1,2)\n",
    "train_acc = history.history['accuracy']\n",
    "train_loss = history.history['loss']\n",
    "val_acc = history.history['val_accuracy']\n",
    "val_loss = history.history['val_loss']\n",
    "fig.set_size_inches(20,10)\n",
    "\n",
    "ax[0].plot(epochs , train_acc , 'go-' , label = 'Training Accuracy')\n",
    "ax[0].plot(epochs , val_acc , 'ro-' , label = 'Validation Accuracy')\n",
    "ax[0].set_title('Training & Validation Accuracy')\n",
    "ax[0].legend()\n",
    "ax[0].set_xlabel(\"Epochs\")\n",
    "ax[0].set_ylabel(\"Accuracy\")\n",
    "\n",
    "ax[1].plot(epochs , train_loss , 'g-o' , label = 'Training Loss')\n",
    "ax[1].plot(epochs , val_loss , 'r-o' , label = 'Validation Loss')\n",
    "ax[1].set_title('Testing Accuracy & Loss')\n",
    "ax[1].legend()\n",
    "ax[1].set_xlabel(\"Epochs\")\n",
    "ax[1].set_ylabel(\"Training & Validation Loss\")\n",
    "plt.show()"
   ]
  },
  {
   "cell_type": "code",
   "execution_count": null,
   "metadata": {},
   "outputs": [],
   "source": [
    "predictions = model.predict(x = test_generator, verbose = 0)"
   ]
  },
  {
   "cell_type": "code",
   "execution_count": null,
   "metadata": {},
   "outputs": [],
   "source": [
    "cm = confusion_matrix(y_true = test_generator.classes, y_pred = np.argmax(predictions,axis = -1))\n",
    "fig, ax = plt.subplots(figsize=(6,6))\n",
    "sns.heatmap(cm, annot=True, fmt='d',\n",
    "            xticklabels=[\"normal\", \"covid\", \"pneumonia\"], yticklabels=[\"normal\", \"covid\", \"pneumonia\"])"
   ]
  }
 ],
 "metadata": {
  "interpreter": {
   "hash": "60b5aa1117f644a56cfefa69a0b1d50bf1f82c4bfed82b1b696b6ab3098426bd"
  },
  "kernelspec": {
   "display_name": "Python 3.9.7 ('venv')",
   "language": "python",
   "name": "python3"
  },
  "language_info": {
   "codemirror_mode": {
    "name": "ipython",
    "version": 3
   },
   "file_extension": ".py",
   "mimetype": "text/x-python",
   "name": "python",
   "nbconvert_exporter": "python",
   "pygments_lexer": "ipython3",
   "version": "3.9.7"
  },
  "orig_nbformat": 4
 },
 "nbformat": 4,
 "nbformat_minor": 2
}
